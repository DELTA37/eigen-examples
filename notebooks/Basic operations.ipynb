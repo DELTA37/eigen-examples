{
 "cells": [
  {
   "cell_type": "code",
   "execution_count": 1,
   "metadata": {},
   "outputs": [
    {
     "data": {
      "text/plain": []
     },
     "execution_count": 1,
     "metadata": {},
     "output_type": "execute_result"
    }
   ],
   "source": [
    "#include <iostream>\n",
    "#include <Eigen/Core>"
   ]
  },
  {
   "cell_type": "code",
   "execution_count": 2,
   "metadata": {},
   "outputs": [
    {
     "data": {
      "text/plain": []
     },
     "execution_count": 2,
     "metadata": {},
     "output_type": "execute_result"
    }
   ],
   "source": [
    "Eigen::VectorXd m{15};\n",
    "for (size_t i = 0; i < 15; ++i) {\n",
    "    m[i]= i;\n",
    "}"
   ]
  },
  {
   "cell_type": "code",
   "execution_count": 3,
   "metadata": {},
   "outputs": [
    {
     "name": "stdout",
     "output_type": "stream",
     "text": [
      "15 1\n"
     ]
    },
    {
     "data": {
      "text/plain": [
       "(std::basic_ostream<char, std::char_traits<char> >::__ostream_type &) @0x7f3f240e4ee0\n"
      ]
     },
     "execution_count": 3,
     "metadata": {},
     "output_type": "execute_result"
    }
   ],
   "source": [
    "std::cout << m.rows() << \" \" << m.cols() << std::endl;"
   ]
  },
  {
   "cell_type": "code",
   "execution_count": 4,
   "metadata": {},
   "outputs": [
    {
     "data": {
      "text/plain": []
     },
     "execution_count": 4,
     "metadata": {},
     "output_type": "execute_result"
    }
   ],
   "source": [
    "Eigen::MatrixXd A{10, 15};\n",
    "for (size_t i = 0; i < 10; ++i) \n",
    "for (size_t j = 0; j < 15; ++j) {\n",
    "    A(i, j) = i + j;\n",
    "}"
   ]
  },
  {
   "cell_type": "code",
   "execution_count": 7,
   "metadata": {},
   "outputs": [
    {
     "name": "stdout",
     "output_type": "stream",
     "text": [
      " 0  1  2  3  4  5  6  7  8  9 10 11 12 13 14\n",
      " 1  2  3  4  5  6  7  8  9 10 11 12 13 14 15\n",
      " 2  3  4  5  6  7  8  9 10 11 12 13 14 15 16\n",
      " 3  4  5  6  7  8  9 10 11 12 13 14 15 16 17\n",
      " 4  5  6  7  8  9 10 11 12 13 14 15 16 17 18\n",
      " 5  6  7  8  9 10 11 12 13 14 15 16 17 18 19\n",
      " 6  7  8  9 10 11 12 13 14 15 16 17 18 19 20\n",
      " 7  8  9 10 11 12 13 14 15 16 17 18 19 20 21\n",
      " 8  9 10 11 12 13 14 15 16 17 18 19 20 21 22\n",
      " 9 10 11 12 13 14 15 16 17 18 19 20 21 22 23\n"
     ]
    },
    {
     "data": {
      "text/plain": [
       "(std::basic_ostream<char, std::char_traits<char> >::__ostream_type &) @0x7f3f240e4ee0\n"
      ]
     },
     "execution_count": 7,
     "metadata": {},
     "output_type": "execute_result"
    }
   ],
   "source": [
    "std::cout << A << std::endl;"
   ]
  },
  {
   "cell_type": "code",
   "execution_count": 8,
   "metadata": {},
   "outputs": [
    {
     "name": "stdout",
     "output_type": "stream",
     "text": [
      "1015\n",
      "1120\n",
      "1225\n",
      "1330\n",
      "1435\n",
      "1540\n",
      "1645\n",
      "1750\n",
      "1855\n",
      "1960\n"
     ]
    },
    {
     "data": {
      "text/plain": [
       "(std::basic_ostream<char, std::char_traits<char> >::__ostream_type &) @0x7f3f240e4ee0\n"
      ]
     },
     "execution_count": 8,
     "metadata": {},
     "output_type": "execute_result"
    }
   ],
   "source": [
    "std::cout << A * m << std::endl;"
   ]
  },
  {
   "cell_type": "code",
   "execution_count": 9,
   "metadata": {},
   "outputs": [
    {
     "name": "stdout",
     "output_type": "stream",
     "text": [
      " 0\n",
      " 2\n",
      " 4\n",
      " 6\n",
      " 8\n",
      "10\n",
      "12\n",
      "14\n",
      "16\n",
      "18\n"
     ]
    },
    {
     "data": {
      "text/plain": [
       "(std::basic_ostream<char, std::char_traits<char> >::__ostream_type &) @0x7f3f240e4ee0\n"
      ]
     },
     "execution_count": 9,
     "metadata": {},
     "output_type": "execute_result"
    }
   ],
   "source": [
    "std::cout << A.diagonal() << std::endl;"
   ]
  },
  {
   "cell_type": "code",
   "execution_count": 10,
   "metadata": {},
   "outputs": [
    {
     "name": "stdout",
     "output_type": "stream",
     "text": [
      "0 1\n",
      "1 2\n"
     ]
    },
    {
     "data": {
      "text/plain": [
       "(std::basic_ostream<char, std::char_traits<char> >::__ostream_type &) @0x7f3f240e4ee0\n"
      ]
     },
     "execution_count": 10,
     "metadata": {},
     "output_type": "execute_result"
    }
   ],
   "source": [
    "std::cout << A.block(0, 0, 2, 2) << std::endl;"
   ]
  },
  {
   "cell_type": "markdown",
   "metadata": {},
   "source": [
    "# Reshape"
   ]
  },
  {
   "cell_type": "code",
   "execution_count": 12,
   "metadata": {},
   "outputs": [
    {
     "name": "stdout",
     "output_type": "stream",
     "text": [
      "(Eigen::Map<Eigen::MatrixXd> &) @0x7f3f2a3a0098\n"
     ]
    },
    {
     "data": {
      "text/plain": [
       "(Eigen::Map<Eigen::MatrixXd> &) @0x7f3f2a3a0098\n"
      ]
     },
     "execution_count": 12,
     "metadata": {},
     "output_type": "execute_result"
    }
   ],
   "source": [
    "Eigen::MatrixXd m1(3, 4);\n",
    "m1 << 1, 2, 3,  4,  5,  6,\n",
    "      7, 8, 9, 10, 11, 12;\n",
    "Eigen::Map<Eigen::MatrixXd> m2(m1.data(), 6, 2)"
   ]
  },
  {
   "cell_type": "code",
   "execution_count": 13,
   "metadata": {},
   "outputs": [
    {
     "name": "stdout",
     "output_type": "stream",
     "text": [
      " 1  2  3  4\n",
      " 5  6  7  8\n",
      " 9 10 11 12\n",
      " 1  3\n",
      " 5  7\n",
      " 9 11\n",
      " 2  4\n",
      " 6  8\n",
      "10 12\n"
     ]
    },
    {
     "data": {
      "text/plain": [
       "(std::basic_ostream<char, std::char_traits<char> >::__ostream_type &) @0x7f3f240e4ee0\n"
      ]
     },
     "execution_count": 13,
     "metadata": {},
     "output_type": "execute_result"
    }
   ],
   "source": [
    "std::cout << m1 << std::endl << m2 << std::endl;"
   ]
  },
  {
   "cell_type": "code",
   "execution_count": 18,
   "metadata": {},
   "outputs": [
    {
     "data": {
      "text/plain": [
       "(double) 2.000000\n"
      ]
     },
     "execution_count": 18,
     "metadata": {},
     "output_type": "execute_result"
    }
   ],
   "source": [
    "m2(0, 0) = 2;"
   ]
  },
  {
   "cell_type": "code",
   "execution_count": 19,
   "metadata": {},
   "outputs": [
    {
     "name": "stdout",
     "output_type": "stream",
     "text": [
      " 2  2  3  4\n",
      " 5  6  7  8\n",
      " 9 10 11 12\n"
     ]
    },
    {
     "data": {
      "text/plain": [
       "(std::basic_ostream<char, std::char_traits<char> >::__ostream_type &) @0x7f3f240e4ee0\n"
      ]
     },
     "execution_count": 19,
     "metadata": {},
     "output_type": "execute_result"
    }
   ],
   "source": [
    "std::cout << m1 << std::endl;"
   ]
  },
  {
   "cell_type": "markdown",
   "metadata": {},
   "source": [
    "# Reshape with copy"
   ]
  },
  {
   "cell_type": "code",
   "execution_count": 20,
   "metadata": {},
   "outputs": [
    {
     "data": {
      "text/plain": [
       "(Eigen::MatrixXd &) @0x7f3f2a3a0118\n"
      ]
     },
     "execution_count": 20,
     "metadata": {},
     "output_type": "execute_result"
    }
   ],
   "source": [
    "Eigen::MatrixXd a1(3, 4);\n",
    "a1 << 1, 2, 3,  4,  5,  6,\n",
    "      7, 8, 9, 10, 11, 12;\n",
    "Eigen::MatrixXd a2 = Eigen::Map<Eigen::MatrixXd>(a1.data(), 3, 4);"
   ]
  },
  {
   "cell_type": "code",
   "execution_count": 21,
   "metadata": {},
   "outputs": [
    {
     "name": "stdout",
     "output_type": "stream",
     "text": [
      " 1  2  3  4\n",
      " 5  6  7  8\n",
      " 9 10 11 12\n"
     ]
    },
    {
     "data": {
      "text/plain": [
       "(std::basic_ostream<char, std::char_traits<char> >::__ostream_type &) @0x7f3f240e4ee0\n"
      ]
     },
     "execution_count": 21,
     "metadata": {},
     "output_type": "execute_result"
    }
   ],
   "source": [
    "std::cout << a2 << std::endl;"
   ]
  },
  {
   "cell_type": "code",
   "execution_count": 22,
   "metadata": {},
   "outputs": [
    {
     "data": {
      "text/plain": [
       "(double) 2.000000\n"
      ]
     },
     "execution_count": 22,
     "metadata": {},
     "output_type": "execute_result"
    }
   ],
   "source": [
    "a2(0,0)=2;"
   ]
  },
  {
   "cell_type": "code",
   "execution_count": 23,
   "metadata": {},
   "outputs": [
    {
     "name": "stdout",
     "output_type": "stream",
     "text": [
      " 1  2  3  4\n",
      " 5  6  7  8\n",
      " 9 10 11 12\n"
     ]
    },
    {
     "data": {
      "text/plain": [
       "(std::basic_ostream<char, std::char_traits<char> >::__ostream_type &) @0x7f3f240e4ee0\n"
      ]
     },
     "execution_count": 23,
     "metadata": {},
     "output_type": "execute_result"
    }
   ],
   "source": [
    "std::cout << a1 << std::endl;"
   ]
  },
  {
   "cell_type": "code",
   "execution_count": 27,
   "metadata": {},
   "outputs": [
    {
     "data": {
      "text/plain": [
       "(const double) 2.000000\n"
      ]
     },
     "execution_count": 27,
     "metadata": {},
     "output_type": "execute_result"
    }
   ],
   "source": [
    "m2.coeff(0, 0);"
   ]
  },
  {
   "cell_type": "markdown",
   "metadata": {},
   "source": [
    "#  Transposition and conjugation"
   ]
  },
  {
   "cell_type": "code",
   "execution_count": 31,
   "metadata": {},
   "outputs": [
    {
     "name": "stdout",
     "output_type": "stream",
     "text": [
      "Here is the matrix a\n",
      "  (-0.444451,0.10794) (-0.270431,0.0268018)\n",
      "(-0.0452059,0.257742)    (0.904459,0.83239)\n",
      "Here is the matrix a^T\n",
      "  (-0.444451,0.10794) (-0.0452059,0.257742)\n",
      "(-0.270431,0.0268018)    (0.904459,0.83239)\n",
      "Here is the conjugate of a\n",
      "  (-0.444451,-0.10794) (-0.270431,-0.0268018)\n",
      "(-0.0452059,-0.257742)    (0.904459,-0.83239)\n",
      "Here is the matrix a^*\n",
      "  (-0.444451,-0.10794) (-0.0452059,-0.257742)\n",
      "(-0.270431,-0.0268018)    (0.904459,-0.83239)\n"
     ]
    },
    {
     "data": {
      "text/plain": [
       "(std::basic_ostream<char, std::char_traits<char> >::__ostream_type &) @0x7f3f240e4ee0\n"
      ]
     },
     "execution_count": 31,
     "metadata": {},
     "output_type": "execute_result"
    }
   ],
   "source": [
    "Eigen::MatrixXcf a = Eigen::MatrixXcf::Random(2,2);\n",
    "std::cout << \"Here is the matrix a\\n\" << a << std::endl;\n",
    "std::cout << \"Here is the matrix a^T\\n\" << a.transpose() << std::endl;\n",
    "std::cout << \"Here is the conjugate of a\\n\" << a.conjugate() << std::endl;\n",
    "std::cout << \"Here is the matrix a^*\\n\" << a.adjoint() << std::endl;"
   ]
  },
  {
   "cell_type": "markdown",
   "metadata": {},
   "source": [
    "# In place "
   ]
  },
  {
   "cell_type": "code",
   "execution_count": 32,
   "metadata": {},
   "outputs": [
    {
     "name": "stdout",
     "output_type": "stream",
     "text": [
      " 0.271423  0.213938 -0.725537\n",
      " 0.434594 -0.967399  0.608354\n",
      "-0.716795 -0.514226 -0.686642\n",
      " 0.271423  0.434594 -0.716795\n",
      " 0.213938 -0.967399 -0.514226\n",
      "-0.725537  0.608354 -0.686642\n"
     ]
    },
    {
     "data": {
      "text/plain": [
       "(std::basic_ostream<char, std::char_traits<char> >::__ostream_type &) @0x7f3f240e4ee0\n"
      ]
     },
     "execution_count": 32,
     "metadata": {},
     "output_type": "execute_result"
    }
   ],
   "source": [
    "Eigen::MatrixXd b = Eigen::MatrixXd::Random(3, 3);\n",
    "std::cout << b << std::endl;\n",
    "b.transposeInPlace();\n",
    "std::cout << b << std::endl;"
   ]
  },
  {
   "cell_type": "code",
   "execution_count": 33,
   "metadata": {},
   "outputs": [
    {
     "name": "stdout",
     "output_type": "stream",
     "text": [
      "-0.198111  0.997849  0.678224\n",
      "-0.740419 -0.563486   0.22528\n",
      "-0.782382 0.0258648 -0.407937\n",
      "-0.198111  0.997849  0.678224\n",
      "-0.740419 -0.563486   0.22528\n",
      "-0.782382 0.0258648 -0.407937\n"
     ]
    },
    {
     "data": {
      "text/plain": [
       "(std::basic_ostream<char, std::char_traits<char> >::__ostream_type &) @0x7f3f240e4ee0\n"
      ]
     },
     "execution_count": 33,
     "metadata": {},
     "output_type": "execute_result"
    }
   ],
   "source": [
    "Eigen::MatrixXd c = Eigen::MatrixXd::Random(3, 3);\n",
    "std::cout << c << std::endl;\n",
    "b.adjointInPlace();\n",
    "std::cout << c << std::endl;"
   ]
  },
  {
   "cell_type": "code",
   "execution_count": 35,
   "metadata": {},
   "outputs": [
    {
     "name": "stdout",
     "output_type": "stream",
     "text": [
      "-1.38262"
     ]
    },
    {
     "data": {
      "text/plain": [
       "(std::basic_ostream<char, std::char_traits<char> >::__ostream_type &) @0x7f3f240e4ee0\n"
      ]
     },
     "execution_count": 35,
     "metadata": {},
     "output_type": "execute_result"
    }
   ],
   "source": [
    "std::cout << b.trace();"
   ]
  },
  {
   "cell_type": "markdown",
   "metadata": {},
   "source": [
    "# unary function applied to each element of matrix"
   ]
  },
  {
   "cell_type": "code",
   "execution_count": 56,
   "metadata": {},
   "outputs": [
    {
     "data": {
      "text/plain": []
     },
     "execution_count": 56,
     "metadata": {},
     "output_type": "execute_result"
    }
   ],
   "source": [
    "double r(double x) {\n",
    "  if (x < 0) {\n",
    "    return x;\n",
    "  } else {\n",
    "    return 0;\n",
    "  }\n",
    "}"
   ]
  },
  {
   "cell_type": "code",
   "execution_count": 58,
   "metadata": {},
   "outputs": [
    {
     "name": "stdout",
     "output_type": "stream",
     "text": [
      "0 1 2 3\n",
      "1 2 3 4\n",
      "2 3 4 5\n",
      "3 4 5 6\n",
      "becomes: \n",
      "0 0 0 0\n",
      "0 0 0 0\n",
      "0 0 0 0\n",
      "0 0 0 0\n"
     ]
    },
    {
     "data": {
      "text/plain": [
       "(std::basic_ostream<char, std::char_traits<char> >::__ostream_type &) @0x7f3f240e4ee0\n"
      ]
     },
     "execution_count": 58,
     "metadata": {},
     "output_type": "execute_result"
    }
   ],
   "source": [
    "Eigen::MatrixXd m5(4, 4);\n",
    "for (size_t i = 0; i < 4; ++i)\n",
    "for (size_t j = 0; j < 4; ++j) {\n",
    "    m5(i, j) = i + j;\n",
    "}\n",
    "std::cout << m5 << std::endl << \"becomes: \" << std::endl << m5.unaryExpr(std::ptr_fun(r)) << std::endl; "
   ]
  },
  {
   "cell_type": "code",
   "execution_count": null,
   "metadata": {},
   "outputs": [],
   "source": []
  }
 ],
 "metadata": {
  "kernelspec": {
   "display_name": "C++17",
   "language": "",
   "name": "cling-cpp17"
  },
  "language_info": {
   "codemirror_mode": "text/x-c++src",
   "file_extension": ".c++",
   "mimetype": " text/x-c++src",
   "name": "c++"
  }
 },
 "nbformat": 4,
 "nbformat_minor": 2
}
