{
 "cells": [
  {
   "cell_type": "code",
   "execution_count": 1,
   "metadata": {},
   "outputs": [
    {
     "data": {
      "text/plain": []
     },
     "execution_count": 1,
     "metadata": {},
     "output_type": "execute_result"
    }
   ],
   "source": [
    "#include <iostream>\n",
    "#include <Eigen/Core>\n",
    "#include <Eigen/Dense>\n",
    "#include <string>"
   ]
  },
  {
   "cell_type": "markdown",
   "metadata": {},
   "source": [
    "# IOFormat"
   ]
  },
  {
   "cell_type": "markdown",
   "metadata": {},
   "source": [
    "\n",
    "    precision number of digits for floating point values, or one of the special constants StreamPrecision and FullPrecision. The default is the special value StreamPrecision which means to use the stream's own precision setting, as set for instance using cout.precision(3). The other special value FullPrecision means that the number of digits will be computed to match the full precision of each floating-point type.\n",
    "    flags an OR-ed combination of flags, the default value is 0, the only currently available flag is DontAlignCols which allows to disable the alignment of columns, resulting in faster code.\n",
    "    coeffSeparator string printed between two coefficients of the same row\n",
    "    rowSeparator string printed between two rows\n",
    "    rowPrefix string printed at the beginning of each row\n",
    "    rowSuffix string printed at the end of each row\n",
    "    matPrefix string printed at the beginning of the matrix\n",
    "    matSuffix string printed at the end of the matrix\n"
   ]
  },
  {
   "cell_type": "code",
   "execution_count": 2,
   "metadata": {},
   "outputs": [
    {
     "data": {
      "text/plain": [
       "(Eigen::CommaInitializer &) @0x7ffddf4cb870\n"
      ]
     },
     "execution_count": 2,
     "metadata": {},
     "output_type": "execute_result"
    }
   ],
   "source": [
    "Eigen::Matrix3d m1;\n",
    "m1 << 1.111111, 2, 3.33333, 4, 5, 6, 7, 8.888888, 9;"
   ]
  },
  {
   "cell_type": "code",
   "execution_count": 3,
   "metadata": {},
   "outputs": [
    {
     "data": {
      "text/plain": [
       "(std::string &) \"\n",
       "----------------------------------------\n",
       "\"\n"
      ]
     },
     "execution_count": 3,
     "metadata": {},
     "output_type": "execute_result"
    }
   ],
   "source": [
    "std::string sep = \"\\n----------------------------------------\\n\";"
   ]
  },
  {
   "cell_type": "markdown",
   "metadata": {},
   "source": [
    "Eigen::IOFormat::IOFormat \t( \tint  \t_precision = StreamPrecision,  \n",
    "\t\tint  \t_flags = 0,  \n",
    "\t\tconst std::string &  \t_coeffSeparator = \" \",  \n",
    "\t\tconst std::string &  \t_rowSeparator = \"\\n\",  \n",
    "\t\tconst std::string &  \t_rowPrefix = \"\",  \n",
    "\t\tconst std::string &  \t_rowSuffix = \"\",  \n",
    "\t\tconst std::string &  \t_matPrefix = \"\",  \n",
    "\t\tconst std::string &  \t_matSuffix = \"\"   \n",
    "\t) \t\t  \n",
    "    \n",
    " enum { DontAlignCols = 1 };  \n",
    " enum { StreamPrecision = -1,  \n",
    "  FullPrecision = -2 };  "
   ]
  },
  {
   "cell_type": "code",
   "execution_count": 4,
   "metadata": {},
   "outputs": [
    {
     "data": {
      "text/plain": [
       "(Eigen::IOFormat &) @0x7ff6537340c8\n"
      ]
     },
     "execution_count": 4,
     "metadata": {},
     "output_type": "execute_result"
    }
   ],
   "source": [
    "Eigen::IOFormat CommaInitFmt(Eigen::StreamPrecision, Eigen::DontAlignCols, \", \", \", \", \"\", \"\", \" << \", \";\");"
   ]
  },
  {
   "cell_type": "code",
   "execution_count": 5,
   "metadata": {},
   "outputs": [
    {
     "data": {
      "text/plain": [
       "(Eigen::CommaInitializer &) @0x7ffddf4cbdf0\n"
      ]
     },
     "execution_count": 5,
     "metadata": {},
     "output_type": "execute_result"
    }
   ],
   "source": [
    "Eigen::MatrixXd m2(3, 3);\n",
    "m2 << 1.111111, 2, 3.33333, 4, 5, 6, 7, 8.888888, 9;"
   ]
  },
  {
   "cell_type": "code",
   "execution_count": 6,
   "metadata": {},
   "outputs": [
    {
     "name": "stdout",
     "output_type": "stream",
     "text": [
      " << 1.11111, 2, 3.33333, 4, 5, 6, 7, 8.88889, 9;"
     ]
    },
    {
     "data": {
      "text/plain": [
       "(std::ostream &) @0x7ff64d478ee0\n"
      ]
     },
     "execution_count": 6,
     "metadata": {},
     "output_type": "execute_result"
    }
   ],
   "source": [
    "std::cout << m2.format(CommaInitFmt);"
   ]
  },
  {
   "cell_type": "code",
   "execution_count": 7,
   "metadata": {},
   "outputs": [
    {
     "name": "stdout",
     "output_type": "stream",
     "text": [
      "1.11111       2 3.33333\n",
      "      4       5       6\n",
      "      7 8.88889       9\n"
     ]
    },
    {
     "data": {
      "text/plain": [
       "(std::basic_ostream<char, std::char_traits<char> >::__ostream_type &) @0x7ff64d478ee0\n"
      ]
     },
     "execution_count": 7,
     "metadata": {},
     "output_type": "execute_result"
    }
   ],
   "source": [
    "std::cout << m2 << std::endl;"
   ]
  },
  {
   "cell_type": "code",
   "execution_count": 8,
   "metadata": {},
   "outputs": [
    {
     "data": {
      "text/plain": [
       "(Eigen::IOFormat &) @0x7ff653734178\n"
      ]
     },
     "execution_count": 8,
     "metadata": {},
     "output_type": "execute_result"
    }
   ],
   "source": [
    "Eigen::IOFormat Fmt1(Eigen::FullPrecision, 0, \", \", \", \", \"\", \"\", \"[\", \"]\");"
   ]
  },
  {
   "cell_type": "code",
   "execution_count": 9,
   "metadata": {},
   "outputs": [
    {
     "name": "stdout",
     "output_type": "stream",
     "text": [
      "[1.111111,        2,  3.33333,         4,        5,        6,         7, 8.888888,        9]"
     ]
    },
    {
     "data": {
      "text/plain": [
       "(std::ostream &) @0x7ff64d478ee0\n"
      ]
     },
     "execution_count": 9,
     "metadata": {},
     "output_type": "execute_result"
    }
   ],
   "source": [
    "std::cout << m2.format(Fmt1);"
   ]
  },
  {
   "cell_type": "code",
   "execution_count": 10,
   "metadata": {},
   "outputs": [
    {
     "data": {
      "text/plain": [
       "(Eigen::IOFormat &) @0x7ff6537341f8\n"
      ]
     },
     "execution_count": 10,
     "metadata": {},
     "output_type": "execute_result"
    }
   ],
   "source": [
    "Eigen::IOFormat Fmt2(Eigen::FullPrecision, 0, \", \", \"\\n\", \"|\", \"|\", \"[\", \"]\");"
   ]
  },
  {
   "cell_type": "code",
   "execution_count": 11,
   "metadata": {},
   "outputs": [
    {
     "name": "stdout",
     "output_type": "stream",
     "text": [
      "[|1.111111,        2,  3.33333|\n",
      " |       4,        5,        6|\n",
      " |       7, 8.888888,        9|]"
     ]
    },
    {
     "data": {
      "text/plain": [
       "(std::ostream &) @0x7ff64d478ee0\n"
      ]
     },
     "execution_count": 11,
     "metadata": {},
     "output_type": "execute_result"
    }
   ],
   "source": [
    "std::cout << m2.format(Fmt2);"
   ]
  },
  {
   "cell_type": "code",
   "execution_count": 12,
   "metadata": {},
   "outputs": [
    {
     "data": {
      "text/plain": [
       "(Eigen::IOFormat &) @0x7ff653734278\n"
      ]
     },
     "execution_count": 12,
     "metadata": {},
     "output_type": "execute_result"
    }
   ],
   "source": [
    "Eigen::IOFormat Fmt3(Eigen::FullPrecision, 0, \", \", \"\\n\", \"|\", \"|\", \"\", \"\");"
   ]
  },
  {
   "cell_type": "code",
   "execution_count": 13,
   "metadata": {},
   "outputs": [
    {
     "name": "stdout",
     "output_type": "stream",
     "text": [
      "|1.111111,        2,  3.33333|\n",
      "|       4,        5,        6|\n",
      "|       7, 8.888888,        9|"
     ]
    },
    {
     "data": {
      "text/plain": [
       "(std::ostream &) @0x7ff64d478ee0\n"
      ]
     },
     "execution_count": 13,
     "metadata": {},
     "output_type": "execute_result"
    }
   ],
   "source": [
    "std::cout << m2.format(Fmt3);"
   ]
  },
  {
   "cell_type": "code",
   "execution_count": 14,
   "metadata": {},
   "outputs": [
    {
     "data": {
      "text/plain": [
       "(Eigen::IOFormat &) @0x7ff6537342f8\n"
      ]
     },
     "execution_count": 14,
     "metadata": {},
     "output_type": "execute_result"
    }
   ],
   "source": [
    "Eigen::IOFormat Fmt4(Eigen::FullPrecision, Eigen::DontAlignCols, \", \", \"\\n\", \"|\", \"|\", \"\", \"\");"
   ]
  },
  {
   "cell_type": "code",
   "execution_count": 15,
   "metadata": {},
   "outputs": [
    {
     "name": "stdout",
     "output_type": "stream",
     "text": [
      "|1.111111, 2, 3.33333|\n",
      "|4, 5, 6|\n",
      "|7, 8.888888, 9|"
     ]
    },
    {
     "data": {
      "text/plain": [
       "(std::ostream &) @0x7ff64d478ee0\n"
      ]
     },
     "execution_count": 15,
     "metadata": {},
     "output_type": "execute_result"
    }
   ],
   "source": [
    "std::cout << m2.format(Fmt4);"
   ]
  },
  {
   "cell_type": "code",
   "execution_count": null,
   "metadata": {},
   "outputs": [],
   "source": []
  }
 ],
 "metadata": {
  "kernelspec": {
   "display_name": "C++17",
   "language": "",
   "name": "cling-cpp17"
  },
  "language_info": {
   "codemirror_mode": "text/x-c++src",
   "file_extension": ".c++",
   "mimetype": " text/x-c++src",
   "name": "c++"
  }
 },
 "nbformat": 4,
 "nbformat_minor": 2
}
