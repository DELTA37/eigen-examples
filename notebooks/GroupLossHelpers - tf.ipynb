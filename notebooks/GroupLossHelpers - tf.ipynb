{
 "cells": [
  {
   "cell_type": "code",
   "execution_count": 52,
   "metadata": {},
   "outputs": [],
   "source": [
    "import tensorflow as tf\n",
    "import numpy as np\n",
    "from sklearn.preprocessing import OneHotEncoder\n",
    "tf.reset_default_graph()\n",
    "sess = tf.InteractiveSession()"
   ]
  },
  {
   "cell_type": "code",
   "execution_count": 53,
   "metadata": {},
   "outputs": [],
   "source": [
    "from collections import namedtuple\n",
    "group_t = namedtuple('group_t', ['id', 'inds'])"
   ]
  },
  {
   "cell_type": "code",
   "execution_count": 54,
   "metadata": {},
   "outputs": [],
   "source": [
    "groups = [group_t(0, [0, 1, 2]), group_t(3, [3, 4]), group_t(5, [5])]"
   ]
  },
  {
   "cell_type": "code",
   "execution_count": 55,
   "metadata": {},
   "outputs": [],
   "source": [
    "enc = OneHotEncoder(n_values=6)\n",
    "batch = 10\n",
    "labels = tf.constant(enc.fit_transform(np.random.randint(low=0, high=6, size=(batch, 1))).toarray(), dtype=tf.float32)\n",
    "a = np.random.rand(batch, 6)\n",
    "probs = tf.constant(a / np.sum(a, axis=1, keepdims=True), dtype=tf.float32)"
   ]
  },
  {
   "cell_type": "code",
   "execution_count": 56,
   "metadata": {},
   "outputs": [
    {
     "data": {
      "text/plain": [
       "array([[0., 0., 1., 0., 0., 0.],\n",
       "       [0., 0., 0., 0., 0., 1.],\n",
       "       [0., 0., 0., 0., 0., 1.],\n",
       "       [0., 0., 0., 0., 1., 0.],\n",
       "       [0., 0., 1., 0., 0., 0.],\n",
       "       [1., 0., 0., 0., 0., 0.],\n",
       "       [1., 0., 0., 0., 0., 0.],\n",
       "       [0., 0., 0., 0., 1., 0.],\n",
       "       [0., 1., 0., 0., 0., 0.],\n",
       "       [0., 0., 0., 0., 0., 1.]], dtype=float32)"
      ]
     },
     "execution_count": 56,
     "metadata": {},
     "output_type": "execute_result"
    }
   ],
   "source": [
    "sess.run(labels)"
   ]
  },
  {
   "cell_type": "code",
   "execution_count": 57,
   "metadata": {},
   "outputs": [
    {
     "data": {
      "text/plain": [
       "array([[0.28148592, 0.12334423, 0.27818066, 0.05824978, 0.17000529,\n",
       "        0.08873413],\n",
       "       [0.15645288, 0.01986464, 0.21464635, 0.14941627, 0.23740195,\n",
       "        0.22221792],\n",
       "       [0.02086289, 0.14950497, 0.12770204, 0.21368167, 0.30405772,\n",
       "        0.18419072],\n",
       "       [0.13329518, 0.08393449, 0.24693975, 0.16067754, 0.22760928,\n",
       "        0.14754376],\n",
       "       [0.2603274 , 0.19912387, 0.01489106, 0.16402319, 0.30266422,\n",
       "        0.05897028],\n",
       "       [0.31034127, 0.03975685, 0.02884524, 0.25728238, 0.08843639,\n",
       "        0.2753379 ],\n",
       "       [0.01865423, 0.13742082, 0.2524908 , 0.05165657, 0.16414306,\n",
       "        0.37563452],\n",
       "       [0.05662037, 0.2012304 , 0.20134567, 0.1700586 , 0.09199238,\n",
       "        0.27875257],\n",
       "       [0.17539476, 0.17781967, 0.17155196, 0.21464176, 0.2035678 ,\n",
       "        0.05702404],\n",
       "       [0.20238094, 0.1111108 , 0.18352216, 0.40888548, 0.02075121,\n",
       "        0.07334941]], dtype=float32)"
      ]
     },
     "execution_count": 57,
     "metadata": {},
     "output_type": "execute_result"
    }
   ],
   "source": [
    "sess.run(probs)"
   ]
  },
  {
   "cell_type": "code",
   "execution_count": 58,
   "metadata": {},
   "outputs": [],
   "source": [
    "def upper_feature(probs, groups):\n",
    "    res = []\n",
    "    for group in sorted(groups, key=lambda x : x.id):\n",
    "        res.append(tf.reduce_sum(tf.gather(probs, group.inds, axis=-1)))\n",
    "    return tf.stack(res, axis=-1)"
   ]
  },
  {
   "cell_type": "code",
   "execution_count": 59,
   "metadata": {},
   "outputs": [
    {
     "data": {
      "text/plain": [
       "array([4.5790424, 3.6592023, 1.7617552], dtype=float32)"
      ]
     },
     "execution_count": 59,
     "metadata": {},
     "output_type": "execute_result"
    }
   ],
   "source": [
    "v = upper_feature(probs, groups)\n",
    "sess.run(v)"
   ]
  },
  {
   "cell_type": "code",
   "execution_count": 72,
   "metadata": {},
   "outputs": [],
   "source": [
    "def lower_label(labels, groups):\n",
    "    indices = []\n",
    "    values = []\n",
    "    for group in sorted(groups, key=lambda x : x.id):\n",
    "        for ind in sorted(group.inds):\n",
    "            if ind == group.id:\n",
    "                for i in group.inds:\n",
    "                    indices.append([i, ind])\n",
    "                    values.append(1.0 / len(group.inds))\n",
    "            else:\n",
    "                indices.append([ind, ind])\n",
    "                values.append(1.0)\n",
    "    z = sorted(zip(indices, values), key=lambda x : x[0])\n",
    "    indices, values = zip(*z)\n",
    "    sp = tf.SparseTensor(indices=indices, values=np.float32(values), dense_shape=(labels.shape[-1], labels.shape[-1]))\n",
    "    return tf.transpose(tf.sparse_tensor_dense_matmul(sp, tf.transpose(labels)))"
   ]
  },
  {
   "cell_type": "code",
   "execution_count": 73,
   "metadata": {},
   "outputs": [],
   "source": [
    "lower_labels = lower_label(labels, groups)"
   ]
  },
  {
   "cell_type": "code",
   "execution_count": 74,
   "metadata": {},
   "outputs": [
    {
     "data": {
      "text/plain": [
       "array([[0.        , 0.        , 1.        , 0.        , 0.        ,\n",
       "        0.        ],\n",
       "       [0.        , 0.        , 0.        , 0.        , 0.        ,\n",
       "        1.        ],\n",
       "       [0.        , 0.        , 0.        , 0.        , 0.        ,\n",
       "        1.        ],\n",
       "       [0.        , 0.        , 0.        , 0.        , 1.        ,\n",
       "        0.        ],\n",
       "       [0.        , 0.        , 1.        , 0.        , 0.        ,\n",
       "        0.        ],\n",
       "       [0.33333334, 0.33333334, 0.33333334, 0.        , 0.        ,\n",
       "        0.        ],\n",
       "       [0.33333334, 0.33333334, 0.33333334, 0.        , 0.        ,\n",
       "        0.        ],\n",
       "       [0.        , 0.        , 0.        , 0.        , 1.        ,\n",
       "        0.        ],\n",
       "       [0.        , 1.        , 0.        , 0.        , 0.        ,\n",
       "        0.        ],\n",
       "       [0.        , 0.        , 0.        , 0.        , 0.        ,\n",
       "        1.        ]], dtype=float32)"
      ]
     },
     "execution_count": 74,
     "metadata": {},
     "output_type": "execute_result"
    }
   ],
   "source": [
    "sess.run(lower_labels)"
   ]
  },
  {
   "cell_type": "code",
   "execution_count": null,
   "metadata": {},
   "outputs": [],
   "source": []
  }
 ],
 "metadata": {
  "kernelspec": {
   "display_name": "Python [conda env:py36]",
   "language": "python",
   "name": "conda-env-py36-py"
  },
  "language_info": {
   "codemirror_mode": {
    "name": "ipython",
    "version": 3
   },
   "file_extension": ".py",
   "mimetype": "text/x-python",
   "name": "python",
   "nbconvert_exporter": "python",
   "pygments_lexer": "ipython3",
   "version": "3.6.3"
  }
 },
 "nbformat": 4,
 "nbformat_minor": 2
}
