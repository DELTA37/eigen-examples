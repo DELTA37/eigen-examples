{
 "cells": [
  {
   "cell_type": "code",
   "execution_count": 9,
   "metadata": {},
   "outputs": [],
   "source": [
    "import tensorflow as tf\n",
    "import numpy as np"
   ]
  },
  {
   "cell_type": "markdown",
   "metadata": {},
   "source": [
    "tf.metrics.accuracy(  \n",
    "    labels,  \n",
    "    predictions,  \n",
    "    weights=None,  \n",
    "    metrics_collections=None,  \n",
    "    updates_collections=None,  \n",
    "    name=None  \n",
    ")  \n"
   ]
  },
  {
   "cell_type": "code",
   "execution_count": 2,
   "metadata": {},
   "outputs": [],
   "source": [
    "tf.reset_default_graph()\n",
    "y = tf.placeholder(dtype=tf.int32, shape=[10])\n",
    "y_pred = tf.placeholder(dtype=tf.int32, shape=[10])\n",
    "acc, acc_update_op = tf.metrics.accuracy(y, y_pred)"
   ]
  },
  {
   "cell_type": "code",
   "execution_count": 5,
   "metadata": {},
   "outputs": [
    {
     "data": {
      "text/plain": [
       "[<tf.Variable 'accuracy/total:0' shape=() dtype=float32_ref>,\n",
       " <tf.Variable 'accuracy/count:0' shape=() dtype=float32_ref>]"
      ]
     },
     "execution_count": 5,
     "metadata": {},
     "output_type": "execute_result"
    }
   ],
   "source": [
    "tf.get_collection(tf.GraphKeys.METRIC_VARIABLES)"
   ]
  },
  {
   "cell_type": "code",
   "execution_count": 6,
   "metadata": {},
   "outputs": [
    {
     "data": {
      "text/plain": [
       "[<tf.Variable 'accuracy/total:0' shape=() dtype=float32_ref>,\n",
       " <tf.Variable 'accuracy/count:0' shape=() dtype=float32_ref>]"
      ]
     },
     "execution_count": 6,
     "metadata": {},
     "output_type": "execute_result"
    }
   ],
   "source": [
    "tf.get_collection(tf.GraphKeys.LOCAL_VARIABLES)"
   ]
  },
  {
   "cell_type": "code",
   "execution_count": 7,
   "metadata": {},
   "outputs": [],
   "source": [
    "acc_init_op = tf.variables_initializer(tf.get_collection(tf.GraphKeys.METRIC_VARIABLES))"
   ]
  },
  {
   "cell_type": "code",
   "execution_count": 8,
   "metadata": {},
   "outputs": [],
   "source": [
    "sess = tf.InteractiveSession()\n",
    "sess.run(tf.global_variables_initializer())\n",
    "sess.run(acc_init_op)"
   ]
  },
  {
   "cell_type": "markdown",
   "metadata": {},
   "source": [
    "# Experiment 1"
   ]
  },
  {
   "cell_type": "code",
   "execution_count": 11,
   "metadata": {},
   "outputs": [
    {
     "data": {
      "text/plain": [
       "1.0"
      ]
     },
     "execution_count": 11,
     "metadata": {},
     "output_type": "execute_result"
    }
   ],
   "source": [
    "sess.run(acc_update_op, feed_dict={y : np.zeros(10, dtype=np.int32), y_pred : np.zeros(10, dtype=np.int32)})"
   ]
  },
  {
   "cell_type": "code",
   "execution_count": 12,
   "metadata": {},
   "outputs": [
    {
     "data": {
      "text/plain": [
       "0.5"
      ]
     },
     "execution_count": 12,
     "metadata": {},
     "output_type": "execute_result"
    }
   ],
   "source": [
    "sess.run(acc_update_op, feed_dict={y : np.zeros(10, dtype=np.int32), y_pred : np.ones(10, dtype=np.int32)})"
   ]
  },
  {
   "cell_type": "code",
   "execution_count": 13,
   "metadata": {},
   "outputs": [
    {
     "data": {
      "text/plain": [
       "0.53333336"
      ]
     },
     "execution_count": 13,
     "metadata": {},
     "output_type": "execute_result"
    }
   ],
   "source": [
    "sess.run(acc_update_op, feed_dict={y : np.int32([1,1,1,1,1,0, 0, 0, 0,1]), y_pred : np.ones(10, dtype=np.int32)})"
   ]
  },
  {
   "cell_type": "code",
   "execution_count": 14,
   "metadata": {},
   "outputs": [
    {
     "data": {
      "text/plain": [
       "0.53333336"
      ]
     },
     "execution_count": 14,
     "metadata": {},
     "output_type": "execute_result"
    }
   ],
   "source": [
    "sess.run(acc)"
   ]
  },
  {
   "cell_type": "markdown",
   "metadata": {},
   "source": [
    "# Experiment 2"
   ]
  },
  {
   "cell_type": "code",
   "execution_count": 38,
   "metadata": {},
   "outputs": [],
   "source": [
    "sess = tf.InteractiveSession()\n",
    "sess.run(tf.global_variables_initializer())\n",
    "sess.run(acc_init_op)"
   ]
  },
  {
   "cell_type": "code",
   "execution_count": 39,
   "metadata": {},
   "outputs": [
    {
     "data": {
      "text/plain": [
       "[array([0, 0, 0, 0, 0, 0, 0, 0, 0, 0], dtype=int32),\n",
       " array([0, 0, 0, 0, 0, 0, 0, 0, 0, 0], dtype=int32)]"
      ]
     },
     "execution_count": 39,
     "metadata": {},
     "output_type": "execute_result"
    }
   ],
   "source": [
    "sess.run([y, y_pred], feed_dict={y : np.zeros(10, dtype=np.int32), y_pred : np.zeros(10, dtype=np.int32)})"
   ]
  },
  {
   "cell_type": "code",
   "execution_count": 40,
   "metadata": {},
   "outputs": [
    {
     "data": {
      "text/plain": [
       "[array([0, 0, 0, 0, 0, 0, 0, 0, 0, 0], dtype=int32),\n",
       " array([1, 1, 1, 1, 1, 1, 1, 1, 1, 1], dtype=int32)]"
      ]
     },
     "execution_count": 40,
     "metadata": {},
     "output_type": "execute_result"
    }
   ],
   "source": [
    "sess.run([y, y_pred], feed_dict={y : np.zeros(10, dtype=np.int32), y_pred : np.ones(10, dtype=np.int32)})"
   ]
  },
  {
   "cell_type": "code",
   "execution_count": 41,
   "metadata": {},
   "outputs": [
    {
     "data": {
      "text/plain": [
       "[array([1, 1, 1, 1, 1, 0, 0, 0, 0, 1], dtype=int32),\n",
       " array([1, 1, 1, 1, 1, 1, 1, 1, 1, 1], dtype=int32)]"
      ]
     },
     "execution_count": 41,
     "metadata": {},
     "output_type": "execute_result"
    }
   ],
   "source": [
    "sess.run([y, y_pred], feed_dict={y : np.int32([1,1,1,1,1,0, 0, 0, 0,1]), y_pred : np.ones(10, dtype=np.int32)})"
   ]
  },
  {
   "cell_type": "code",
   "execution_count": 42,
   "metadata": {},
   "outputs": [
    {
     "data": {
      "text/plain": [
       "0.0"
      ]
     },
     "execution_count": 42,
     "metadata": {},
     "output_type": "execute_result"
    }
   ],
   "source": [
    "sess.run(acc)"
   ]
  },
  {
   "cell_type": "markdown",
   "metadata": {},
   "source": [
    "# Custom metric"
   ]
  },
  {
   "cell_type": "markdown",
   "metadata": {},
   "source": [
    "\"\"\"Create variable in `GraphKeys.(LOCAL|METRIC_VARIABLES`) collections.\"\"\"  \n",
    "metric_variable(shape, dtype, validate_shape=True, name=None)  "
   ]
  },
  {
   "cell_type": "code",
   "execution_count": 45,
   "metadata": {},
   "outputs": [],
   "source": [
    "from tensorflow.python.ops import metrics_impl\n",
    "def count_zeros_metric(values, metrics_collections=None, updates_collections=None, name=None):\n",
    "    with tf.variable_scope(name, 'count_zeros', (values,)):\n",
    "        \n",
    "        # metric variables should be created using this function\n",
    "        count = metrics_impl.metric_variable([], dtype=tf.int32, validate_shape=True, name='count')\n",
    "        \n",
    "        # main part of work\n",
    "        zeros_in_predictions = tf.reduce_sum(tf.cast(tf.equal(values, 0), dtype=tf.int32))\n",
    "        \n",
    "        # change of values -> change of counter\n",
    "        with tf.control_dependencies([values]):\n",
    "            count_update_op = tf.assign_add(count, zeros_in_predictions)\n",
    "        \n",
    "        # add to custom collections\n",
    "        if metrics_collections:\n",
    "            tf.add_to_collection(metrics_collections, count)\n",
    "            \n",
    "        if updates_collections:\n",
    "            tf.add_to_collection(updates_collections, count_update_op)\n",
    "        return count, count_update_op"
   ]
  },
  {
   "cell_type": "markdown",
   "metadata": {},
   "source": [
    "# Try to repeat experiments with accuracy "
   ]
  },
  {
   "cell_type": "code",
   "execution_count": 46,
   "metadata": {},
   "outputs": [],
   "source": [
    "count, count_update_op = count_zeros_metric(y_pred)"
   ]
  },
  {
   "cell_type": "code",
   "execution_count": 47,
   "metadata": {},
   "outputs": [],
   "source": [
    "count_init_op = tf.variables_initializer(tf.get_collection(tf.GraphKeys.METRIC_VARIABLES))"
   ]
  },
  {
   "cell_type": "code",
   "execution_count": 49,
   "metadata": {},
   "outputs": [],
   "source": [
    "sess = tf.InteractiveSession()\n",
    "sess.run(tf.global_variables_initializer())\n",
    "sess.run(count_init_op)"
   ]
  },
  {
   "cell_type": "code",
   "execution_count": 50,
   "metadata": {},
   "outputs": [
    {
     "data": {
      "text/plain": [
       "10"
      ]
     },
     "execution_count": 50,
     "metadata": {},
     "output_type": "execute_result"
    }
   ],
   "source": [
    "sess.run(count_update_op, feed_dict={y : np.zeros(10, dtype=np.int32), y_pred : np.zeros(10, dtype=np.int32)})"
   ]
  },
  {
   "cell_type": "code",
   "execution_count": 51,
   "metadata": {},
   "outputs": [
    {
     "data": {
      "text/plain": [
       "10"
      ]
     },
     "execution_count": 51,
     "metadata": {},
     "output_type": "execute_result"
    }
   ],
   "source": [
    "sess.run(count_update_op, feed_dict={y : np.zeros(10, dtype=np.int32), y_pred : np.ones(10, dtype=np.int32)})"
   ]
  },
  {
   "cell_type": "code",
   "execution_count": 52,
   "metadata": {},
   "outputs": [
    {
     "data": {
      "text/plain": [
       "14"
      ]
     },
     "execution_count": 52,
     "metadata": {},
     "output_type": "execute_result"
    }
   ],
   "source": [
    "sess.run(count_update_op, feed_dict={y_pred : np.int32([1,1,1,1,1,0, 0, 0, 0,1])})"
   ]
  },
  {
   "cell_type": "code",
   "execution_count": 53,
   "metadata": {},
   "outputs": [
    {
     "data": {
      "text/plain": [
       "14"
      ]
     },
     "execution_count": 53,
     "metadata": {},
     "output_type": "execute_result"
    }
   ],
   "source": [
    "sess.run(count)"
   ]
  },
  {
   "cell_type": "code",
   "execution_count": null,
   "metadata": {},
   "outputs": [],
   "source": []
  }
 ],
 "metadata": {
  "kernelspec": {
   "display_name": "Python [conda env:py36]",
   "language": "python",
   "name": "conda-env-py36-py"
  },
  "language_info": {
   "codemirror_mode": {
    "name": "ipython",
    "version": 3
   },
   "file_extension": ".py",
   "mimetype": "text/x-python",
   "name": "python",
   "nbconvert_exporter": "python",
   "pygments_lexer": "ipython3",
   "version": "3.6.3"
  }
 },
 "nbformat": 4,
 "nbformat_minor": 2
}
