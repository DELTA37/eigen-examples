{
 "cells": [
  {
   "cell_type": "markdown",
   "metadata": {},
   "source": [
    "# Custom scalar types"
   ]
  },
  {
   "cell_type": "code",
   "execution_count": 6,
   "metadata": {},
   "outputs": [],
   "source": [
    "#include <Eigen/Dense>\n",
    "#include <Eigen/Core>\n",
    "#include <iostream>\n",
    "#include <complex>\n",
    "#include <ostream>\n",
    "using namespace std::complex_literals;"
   ]
  },
  {
   "cell_type": "code",
   "execution_count": 2,
   "metadata": {},
   "outputs": [],
   "source": [
    "std::complex<double> a, b;"
   ]
  },
  {
   "cell_type": "code",
   "execution_count": 3,
   "metadata": {},
   "outputs": [
    {
     "name": "stdout",
     "output_type": "stream",
     "text": [
      "(0,0)\n"
     ]
    }
   ],
   "source": [
    "std::cout << a << std::endl;"
   ]
  },
  {
   "cell_type": "code",
   "execution_count": 4,
   "metadata": {},
   "outputs": [
    {
     "name": "stdout",
     "output_type": "stream",
     "text": [
      "(0,2)\n"
     ]
    }
   ],
   "source": [
    "std::cout << 2i << std::endl;"
   ]
  },
  {
   "cell_type": "code",
   "execution_count": 14,
   "metadata": {},
   "outputs": [
    {
     "name": "stderr",
     "output_type": "stream",
     "text": [
      "\u001b[1minput_line_22:27:26: \u001b[0m\u001b[0;1;31merror: \u001b[0m\u001b[1mno matching function found in local scope\u001b[0m\n",
      "    friend std::ostream& operator<<(std::ostream& os, CountedDouble const& d);\n",
      "\u001b[0;1;32m                         ^~~~~~~~\n",
      "\u001b[0m\u001b[1minput_line_22:31:74: \u001b[0m\u001b[0;1;31merror: \u001b[0m\u001b[1mfunction definition is not allowed here\u001b[0m\n",
      "std::ostream& operator<<(std::ostream const& os, CountedDouble const& d) {\n",
      "\u001b[0;1;32m                                                                         ^\n",
      "\u001b[0m"
     ]
    },
    {
     "ename": "Interpreter Error",
     "evalue": "",
     "output_type": "error",
     "traceback": [
      "Interpreter Error: "
     ]
    }
   ],
   "source": [
    "static int sums = 0;\n",
    "static int prods = 0;\n",
    "\n",
    "class CountedDouble {\n",
    "public:\n",
    "    CountedDouble(double c) : val(c) {}\n",
    "    CountedDouble() : val(0.0) {}\n",
    "    CountedDouble operator+(CountedDouble const& other) {\n",
    "       ++sums;\n",
    "        return CountedDouble(val + other.val);\n",
    "    }\n",
    "    CountedDouble operator-(CountedDouble const& other) {\n",
    "        ++sums;\n",
    "        return CountedDouble(val - other.val);\n",
    "    }\n",
    "    CountedDouble operator*(CountedDouble const& other) {\n",
    "        ++prods;\n",
    "        return CountedDouble(val * other.val);\n",
    "    }\n",
    "    CountedDouble operator/(CountedDouble const& other) {\n",
    "        ++prods;\n",
    "        return CountedDouble(val / other.val);\n",
    "    }\n",
    "    operator double() {\n",
    "        return val;\n",
    "    }\n",
    "    friend std::ostream& operator<<(std::ostream& os, CountedDouble const& d);\n",
    "private:\n",
    "    double val;\n",
    "};\n",
    "\n",
    "std::ostream& operator<<(std::ostream const& os, CountedDouble const& d) {\n",
    "    os << d.val;\n",
    "    return os;\n",
    "}\n"
   ]
  },
  {
   "cell_type": "code",
   "execution_count": null,
   "metadata": {},
   "outputs": [],
   "source": [
    "std::ostream& operator<<(std::ostream const& out, CountedDouble const& d) {\n",
    "    out << d.val;\n",
    "}"
   ]
  },
  {
   "cell_type": "code",
   "execution_count": null,
   "metadata": {},
   "outputs": [],
   "source": [
    "CountedDouble a1(0.5);\n",
    "CountedDouble a2(0.1);\n",
    "std::cout << a1 + a2 << std::endl;\n",
    "std::cout << sums << std::endl;"
   ]
  },
  {
   "cell_type": "code",
   "execution_count": null,
   "metadata": {},
   "outputs": [],
   "source": [
    "namespace Eigen {\n",
    "template<> struct NumTraits<CountedDouble>\n",
    "{\n",
    "  typedef CountedDouble Real;\n",
    "  typedef CountedDouble NonInteger;\n",
    "  typedef CountedDouble Nested;\n",
    "  enum {\n",
    "    IsComplex = 0,\n",
    "    IsInteger = 0,\n",
    "    IsSigned = 1,\n",
    "    RequireInitialization = 1,\n",
    "    ReadCost = 1,\n",
    "    AddCost = 2,\n",
    "    MulCost = 3\n",
    "  };\n",
    "};\n",
    "}"
   ]
  },
  {
   "cell_type": "code",
   "execution_count": null,
   "metadata": {},
   "outputs": [],
   "source": [
    "Eigen::Matrix<CountedDouble, 3, 3> m;"
   ]
  },
  {
   "cell_type": "code",
   "execution_count": null,
   "metadata": {},
   "outputs": [],
   "source": [
    "std::cout << m << std::endl;"
   ]
  },
  {
   "cell_type": "code",
   "execution_count": null,
   "metadata": {},
   "outputs": [],
   "source": []
  }
 ],
 "metadata": {
  "kernelspec": {
   "display_name": "C++17",
   "language": "C++17",
   "name": "xeus-cling-cpp17"
  },
  "language_info": {
   "codemirror_mode": "text/x-c++src",
   "file_extension": ".cpp",
   "mimetype": "text/x-c++src",
   "name": "c++",
   "version": "17"
  }
 },
 "nbformat": 4,
 "nbformat_minor": 2
}
